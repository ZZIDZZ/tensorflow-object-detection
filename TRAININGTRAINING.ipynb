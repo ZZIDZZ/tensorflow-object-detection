{
 "cells": [
  {
   "cell_type": "code",
   "execution_count": null,
   "metadata": {},
   "outputs": [],
   "source": [
    "repo_url = 'https://github.com/ZZIDZZ/tensorflow-object-detection.git'\n",
    "# Number of training steps - 1000 will train very quickly, but more steps will increase accuracy.\n",
    "num_steps = 10000  # 200000 to improve\n",
    "\n",
    "# Number of evaluation steps.\n",
    "num_eval_steps = 50\n",
    "\n",
    "MODELS_CONFIG = {\n",
    "    'ssd_mobilenet_v2': {\n",
    "        'model_name': 'ssd_mobilenet_v2_coco_2018_03_29',\n",
    "        'pipeline_file': 'ssd_mobilenet_v2_coco.config',\n",
    "        'batch_size': 12\n",
    "    },\n",
    "    'faster_rcnn_inception_v2': {\n",
    "        'model_name': 'faster_rcnn_inception_v2_coco_2018_01_28',\n",
    "        'pipeline_file': 'faster_rcnn_inception_v2_pets.config',\n",
    "        'batch_size': 12\n",
    "    },\n",
    "    'rfcn_resnet101': {\n",
    "        'model_name': 'rfcn_resnet101_coco_2018_01_28',\n",
    "        'pipeline_file': 'rfcn_resnet101_pets.config',\n",
    "        'batch_size': 8\n",
    "    }\n",
    "}\n",
    "\n",
    "# Pick the model you want to use\n",
    "# Select a model in `MODELS_CONFIG`.\n",
    "selected_model = 'ssd_mobilenet_v2'\n",
    "\n",
    "# Name of the object detection model to use.\n",
    "MODEL = MODELS_CONFIG[selected_model]['model_name']\n",
    "\n",
    "# Name of the pipline file in tensorflow object detection API.\n",
    "pipeline_file = MODELS_CONFIG[selected_model]['pipeline_file']\n",
    "\n",
    "# Training batch size fits in Colabe's Tesla K80 GPU memory for selected model.\n",
    "batch_size = MODELS_CONFIG[selected_model]['batch_size']"
   ]
  },
  {
   "cell_type": "code",
   "execution_count": 3,
   "metadata": {},
   "outputs": [
    {
     "name": "stdout",
     "output_type": "stream",
     "text": [
      " Volume in drive D has no label.\n",
      " Volume Serial Number is 09EC-147D\n",
      "\n",
      " Directory of d:\\Projects\\pyproj\\tensorflow-object-detection\n",
      "\n",
      "02/23/2022  06:44 AM    <DIR>          .\n",
      "02/23/2022  06:44 AM    <DIR>          ..\n",
      "02/23/2022  06:04 AM                70 .gitignore\n",
      "02/23/2022  06:44 AM               332 asnu\n",
      "02/23/2022  06:38 AM    <DIR>          data\n",
      "02/23/2022  06:04 AM    <DIR>          deploy\n",
      "02/23/2022  06:04 AM             4,948 generate_tfrecord.py\n",
      "02/23/2022  06:04 AM             1,659 LICENSE\n",
      "02/23/2022  06:04 AM         1,827,289 local_inference_test.ipynb\n",
      "02/23/2022  06:04 AM             6,403 local_inference_test.py\n",
      "02/23/2022  06:04 AM             3,778 README.md\n",
      "02/23/2022  06:04 AM                29 requirements.txt\n",
      "02/23/2022  06:04 AM             1,810 resize_images.py\n",
      "02/23/2022  06:04 AM         2,021,604 tensorflow_object_detection_training_colab.ipynb\n",
      "02/23/2022  06:04 AM    <DIR>          test\n",
      "02/23/2022  06:44 AM               339 TRAININGTRAINING.ipynb\n",
      "02/23/2022  06:04 AM             3,535 xml_to_csv.py\n",
      "              12 File(s)      3,871,796 bytes\n",
      "               5 Dir(s)  36,487,483,392 bytes free\n"
     ]
    }
   ],
   "source": [
    "!dir"
   ]
  },
  {
   "cell_type": "code",
   "execution_count": null,
   "metadata": {},
   "outputs": [],
   "source": [
    "import os\n",
    "os.environ['PYTHONPATH'] += ':D:\\\\Projects\\\\pyproj\\models\\\\research:D:\\\\Projects\\\\pyproj\\models\\\\researchslim\\\\'"
   ]
  }
 ],
 "metadata": {
  "interpreter": {
   "hash": "7cf434338c857bb8f7ecdb1095ca8a41d31fcfe5909ce792abbaa2601c924383"
  },
  "kernelspec": {
   "display_name": "Python 3.9.6 64-bit (system)",
   "language": "python",
   "name": "python3"
  },
  "language_info": {
   "codemirror_mode": {
    "name": "ipython",
    "version": 3
   },
   "file_extension": ".py",
   "mimetype": "text/x-python",
   "name": "python",
   "nbconvert_exporter": "python",
   "pygments_lexer": "ipython3",
   "version": "3.9.6"
  },
  "orig_nbformat": 4
 },
 "nbformat": 4,
 "nbformat_minor": 2
}
