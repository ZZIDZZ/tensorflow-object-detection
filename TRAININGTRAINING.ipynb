{
 "cells": [
  {
   "cell_type": "code",
   "execution_count": 4,
   "metadata": {},
   "outputs": [],
   "source": [
    "repo_url = 'https://github.com/ZZIDZZ/tensorflow-object-detection.git'\n",
    "# Number of training steps - 1000 will train very quickly, but more steps will increase accuracy.\n",
    "num_steps = 10000  # 200000 to improve\n",
    "\n",
    "# Number of evaluation steps.\n",
    "num_eval_steps = 50\n",
    "\n",
    "MODELS_CONFIG = {\n",
    "    'ssd_mobilenet_v2': {\n",
    "        'model_name': 'ssd_mobilenet_v2_coco_2018_03_29',\n",
    "        'pipeline_file': 'ssd_mobilenet_v2_coco.config',\n",
    "        'batch_size': 12\n",
    "    },\n",
    "    'faster_rcnn_inception_v2': {\n",
    "        'model_name': 'faster_rcnn_inception_v2_coco_2018_01_28',\n",
    "        'pipeline_file': 'faster_rcnn_inception_v2_pets.config',\n",
    "        'batch_size': 12\n",
    "    },\n",
    "    'rfcn_resnet101': {\n",
    "        'model_name': 'rfcn_resnet101_coco_2018_01_28',\n",
    "        'pipeline_file': 'rfcn_resnet101_pets.config',\n",
    "        'batch_size': 8\n",
    "    }\n",
    "}\n",
    "\n",
    "# Pick the model you want to use\n",
    "# Select a model in `MODELS_CONFIG`.\n",
    "selected_model = 'ssd_mobilenet_v2'\n",
    "\n",
    "# Name of the object detection model to use.\n",
    "MODEL = MODELS_CONFIG[selected_model]['model_name']\n",
    "\n",
    "# Name of the pipline file in tensorflow object detection API.\n",
    "pipeline_file = MODELS_CONFIG[selected_model]['pipeline_file']\n",
    "\n",
    "# Training batch size fits in Colabe's Tesla K80 GPU memory for selected model.\n",
    "batch_size = MODELS_CONFIG[selected_model]['batch_size']\n",
    "MODEL_FILE = MODEL + '.tar.gz'\n",
    "DOWNLOAD_BASE = 'http://download.tensorflow.org/models/object_detection/'\n",
    "DEST_DIR = 'D:\\\\Projects\\\\pyproj\\\\models\\\\research\\\\pretrained_model'"
   ]
  },
  {
   "cell_type": "code",
   "execution_count": 13,
   "metadata": {},
   "outputs": [
    {
     "ename": "KeyError",
     "evalue": "'PYTHONPATH'",
     "output_type": "error",
     "traceback": [
      "\u001b[1;31m---------------------------------------------------------------------------\u001b[0m",
      "\u001b[1;31mKeyError\u001b[0m                                  Traceback (most recent call last)",
      "\u001b[1;32md:\\Projects\\pyproj\\tensorflow-object-detection\\TRAININGTRAINING.ipynb Cell 2'\u001b[0m in \u001b[0;36m<module>\u001b[1;34m\u001b[0m\n\u001b[0;32m      <a href='vscode-notebook-cell:/d%3A/Projects/pyproj/tensorflow-object-detection/TRAININGTRAINING.ipynb#ch0000001?line=0'>1</a>\u001b[0m \u001b[39mimport\u001b[39;00m \u001b[39mos\u001b[39;00m\n\u001b[1;32m----> <a href='vscode-notebook-cell:/d%3A/Projects/pyproj/tensorflow-object-detection/TRAININGTRAINING.ipynb#ch0000001?line=1'>2</a>\u001b[0m os\u001b[39m.\u001b[39menviron[\u001b[39m'\u001b[39m\u001b[39mPYTHONPATH\u001b[39m\u001b[39m'\u001b[39m] \u001b[39m+\u001b[39m\u001b[39m=\u001b[39m \u001b[39m'\u001b[39m\u001b[39m:/content/models/research/:/content/models/research/slim/\u001b[39m\u001b[39m'\u001b[39m\n",
      "File \u001b[1;32mc:\\users\\gamer\\appdata\\local\\programs\\python\\python39\\lib\\os.py:679\u001b[0m, in \u001b[0;36m_Environ.__getitem__\u001b[1;34m(self, key)\u001b[0m\n\u001b[0;32m    <a href='file:///c%3A/users/gamer/appdata/local/programs/python/python39/lib/os.py?line=675'>676</a>\u001b[0m     value \u001b[39m=\u001b[39m \u001b[39mself\u001b[39m\u001b[39m.\u001b[39m_data[\u001b[39mself\u001b[39m\u001b[39m.\u001b[39mencodekey(key)]\n\u001b[0;32m    <a href='file:///c%3A/users/gamer/appdata/local/programs/python/python39/lib/os.py?line=676'>677</a>\u001b[0m \u001b[39mexcept\u001b[39;00m \u001b[39mKeyError\u001b[39;00m:\n\u001b[0;32m    <a href='file:///c%3A/users/gamer/appdata/local/programs/python/python39/lib/os.py?line=677'>678</a>\u001b[0m     \u001b[39m# raise KeyError with the original key value\u001b[39;00m\n\u001b[1;32m--> <a href='file:///c%3A/users/gamer/appdata/local/programs/python/python39/lib/os.py?line=678'>679</a>\u001b[0m     \u001b[39mraise\u001b[39;00m \u001b[39mKeyError\u001b[39;00m(key) \u001b[39mfrom\u001b[39;00m \u001b[39mNone\u001b[39m\n\u001b[0;32m    <a href='file:///c%3A/users/gamer/appdata/local/programs/python/python39/lib/os.py?line=679'>680</a>\u001b[0m \u001b[39mreturn\u001b[39;00m \u001b[39mself\u001b[39m\u001b[39m.\u001b[39mdecodevalue(value)\n",
      "\u001b[1;31mKeyError\u001b[0m: 'PYTHONPATH'"
     ]
    }
   ],
   "source": [
    "!dir"
   ]
  },
  {
   "cell_type": "code",
   "execution_count": 12,
   "metadata": {},
   "outputs": [
    {
     "name": "stderr",
     "output_type": "stream",
     "text": [
      "Traceback (most recent call last):\n",
      "  File \"d:\\Projects\\pyproj\\tensorflow-object-detection\\generate_tfrecord.py\", line 134, in <module>\n",
      "    tf.app.run()\n",
      "  File \"D:\\Projects\\pyproj\\project_env\\lib\\site-packages\\tensorflow\\python\\platform\\app.py\", line 36, in run\n",
      "    _run(main=main, argv=argv, flags_parser=_parse_flags_tolerate_undef)\n",
      "  File \"D:\\Projects\\pyproj\\project_env\\lib\\site-packages\\absl\\app.py\", line 312, in run\n",
      "    _run_main(main, args)\n",
      "  File \"D:\\Projects\\pyproj\\project_env\\lib\\site-packages\\absl\\app.py\", line 258, in _run_main\n",
      "    sys.exit(main(argv))\n",
      "  File \"d:\\Projects\\pyproj\\tensorflow-object-detection\\generate_tfrecord.py\", line 107, in main\n",
      "    writer = tf.python_io.TFRecordWriter(FLAGS.output_path)\n",
      "  File \"D:\\Projects\\pyproj\\project_env\\lib\\site-packages\\tensorflow\\python\\lib\\io\\tf_record.py\", line 294, in __init__\n",
      "    super(TFRecordWriter, self).__init__(\n",
      "tensorflow.python.framework.errors_impl.NotFoundError: Failed to create a NewWriteableFile:  : The system cannot find the path specified.\n",
      "\n",
      "; No such process\n"
     ]
    }
   ],
   "source": [
    "!python generate_tfrecord.py --csv_input data\\annotations --img_path data\\train"
   ]
  },
  {
   "cell_type": "code",
   "execution_count": 14,
   "metadata": {},
   "outputs": [
    {
     "name": "stdout",
     "output_type": "stream",
     "text": [
      "D:\\Projects\\pyproj\\project_env\\Scripts\\python.exe\n",
      "C:\\Users\\gamer\\AppData\\Local\\Programs\\Python\\Python39\\python.exe\n"
     ]
    }
   ],
   "source": [
    "!where python"
   ]
  },
  {
   "cell_type": "code",
   "execution_count": 20,
   "metadata": {},
   "outputs": [
    {
     "name": "stderr",
     "output_type": "stream",
     "text": [
      "UsageError: Line magic function `%D:\\Projects\\pyproj\\project_env\\Scripts\\activate` not found.\n"
     ]
    }
   ],
   "source": [
    "%D:\\Projects\\pyproj\\project_env\\Scripts\\activate"
   ]
  },
  {
   "cell_type": "code",
   "execution_count": 21,
   "metadata": {},
   "outputs": [
    {
     "name": "stdout",
     "output_type": "stream",
     "text": [
      "[WinError 3] The system cannot find the path specified: '/content/models/research'\n",
      "d:\\Projects\\pyproj\\tensorflow-object-detection\n"
     ]
    }
   ],
   "source": [
    "%cd /content/models/research\n",
    "\n",
    "import os\n",
    "import shutil\n",
    "import glob\n",
    "import urllib.request\n",
    "import tarfile\n",
    "\n",
    "\n",
    "if not (os.path.exists(MODEL_FILE)):\n",
    "    urllib.request.urlretrieve(DOWNLOAD_BASE + MODEL_FILE, MODEL_FILE)\n",
    "\n",
    "tar = tarfile.open(MODEL_FILE)\n",
    "tar.extractall()\n",
    "tar.close()\n",
    "\n",
    "os.remove(MODEL_FILE)\n",
    "if (os.path.exists(DEST_DIR)):\n",
    "    shutil.rmtree(DEST_DIR)\n",
    "os.rename(MODEL, DEST_DIR)"
   ]
  },
  {
   "cell_type": "code",
   "execution_count": 5,
   "metadata": {},
   "outputs": [
    {
     "name": "stdout",
     "output_type": "stream",
     "text": [
      "D:\\Projects\\pyproj\\models\\research\n"
     ]
    },
    {
     "data": {
      "text/plain": [
       "'D:\\\\Projects\\\\pyproj\\\\models\\\\research\\\\pretrained_model\\\\model.ckpt'"
      ]
     },
     "execution_count": 5,
     "metadata": {},
     "output_type": "execute_result"
    }
   ],
   "source": [
    "%cd D:\\\\Projects\\\\pyproj\\\\models\\\\research\n",
    "fine_tune_checkpoint = os.path.join(DEST_DIR, \"model.ckpt\")\n",
    "fine_tune_checkpoint"
   ]
  },
  {
   "cell_type": "code",
   "execution_count": 9,
   "metadata": {},
   "outputs": [],
   "source": [
    "import os\n",
    "pipeline_fname = os.path.join('D:\\\\Projects\\\\pyproj\\\\models\\\\research\\\\object_detection\\\\samples\\\\configs\\\\', pipeline_file)\n",
    "\n",
    "assert os.path.isfile(pipeline_fname), '`{}` not exist'.format(pipeline_fname)"
   ]
  },
  {
   "cell_type": "code",
   "execution_count": 6,
   "metadata": {},
   "outputs": [],
   "source": [
    "def get_num_classes(pbtxt_fname):\n",
    "    from object_detection.utils import label_map_util\n",
    "    label_map = label_map_util.load_labelmap(pbtxt_fname)\n",
    "    categories = label_map_util.convert_label_map_to_categories(\n",
    "        label_map, max_num_classes=90, use_display_name=True)\n",
    "    category_index = label_map_util.create_category_index(categories)\n",
    "    return len(category_index.keys())"
   ]
  },
  {
   "cell_type": "code",
   "execution_count": 14,
   "metadata": {},
   "outputs": [
    {
     "ename": "error",
     "evalue": "bad escape \\P at position 25",
     "output_type": "error",
     "traceback": [
      "\u001b[1;31m---------------------------------------------------------------------------\u001b[0m",
      "\u001b[1;31mKeyError\u001b[0m                                  Traceback (most recent call last)",
      "File \u001b[1;32mc:\\users\\gamer\\appdata\\local\\programs\\python\\python39\\lib\\sre_parse.py:1039\u001b[0m, in \u001b[0;36mparse_template\u001b[1;34m(source, state)\u001b[0m\n\u001b[0;32m   <a href='file:///c%3A/users/gamer/appdata/local/programs/python/python39/lib/sre_parse.py?line=1037'>1038</a>\u001b[0m \u001b[39mtry\u001b[39;00m:\n\u001b[1;32m-> <a href='file:///c%3A/users/gamer/appdata/local/programs/python/python39/lib/sre_parse.py?line=1038'>1039</a>\u001b[0m     this \u001b[39m=\u001b[39m \u001b[39mchr\u001b[39m(ESCAPES[this][\u001b[39m1\u001b[39m])\n\u001b[0;32m   <a href='file:///c%3A/users/gamer/appdata/local/programs/python/python39/lib/sre_parse.py?line=1039'>1040</a>\u001b[0m \u001b[39mexcept\u001b[39;00m \u001b[39mKeyError\u001b[39;00m:\n",
      "\u001b[1;31mKeyError\u001b[0m: '\\\\P'",
      "\nDuring handling of the above exception, another exception occurred:\n",
      "\u001b[1;31merror\u001b[0m                                     Traceback (most recent call last)",
      "\u001b[1;32md:\\Projects\\pyproj\\tensorflow-object-detection\\TRAININGTRAINING.ipynb Cell 10'\u001b[0m in \u001b[0;36m<module>\u001b[1;34m\u001b[0m\n\u001b[0;32m      <a href='vscode-notebook-cell:/d%3A/Projects/pyproj/tensorflow-object-detection/TRAININGTRAINING.ipynb#ch0000009?line=6'>7</a>\u001b[0m     s \u001b[39m=\u001b[39m f\u001b[39m.\u001b[39mread()\n\u001b[0;32m      <a href='vscode-notebook-cell:/d%3A/Projects/pyproj/tensorflow-object-detection/TRAININGTRAINING.ipynb#ch0000009?line=7'>8</a>\u001b[0m \u001b[39mwith\u001b[39;00m \u001b[39mopen\u001b[39m(pipeline_fname, \u001b[39m'\u001b[39m\u001b[39mw\u001b[39m\u001b[39m'\u001b[39m) \u001b[39mas\u001b[39;00m f:\n\u001b[0;32m      <a href='vscode-notebook-cell:/d%3A/Projects/pyproj/tensorflow-object-detection/TRAININGTRAINING.ipynb#ch0000009?line=8'>9</a>\u001b[0m     \n\u001b[0;32m     <a href='vscode-notebook-cell:/d%3A/Projects/pyproj/tensorflow-object-detection/TRAININGTRAINING.ipynb#ch0000009?line=9'>10</a>\u001b[0m     \u001b[39m# fine_tune_checkpoint\u001b[39;00m\n\u001b[1;32m---> <a href='vscode-notebook-cell:/d%3A/Projects/pyproj/tensorflow-object-detection/TRAININGTRAINING.ipynb#ch0000009?line=10'>11</a>\u001b[0m     s \u001b[39m=\u001b[39m re\u001b[39m.\u001b[39;49msub(\u001b[39m'\u001b[39;49m\u001b[39mfine_tune_checkpoint: \u001b[39;49m\u001b[39m\"\u001b[39;49m\u001b[39m.*?\u001b[39;49m\u001b[39m\"\u001b[39;49m\u001b[39m'\u001b[39;49m,\n\u001b[0;32m     <a href='vscode-notebook-cell:/d%3A/Projects/pyproj/tensorflow-object-detection/TRAININGTRAINING.ipynb#ch0000009?line=11'>12</a>\u001b[0m                \u001b[39m'\u001b[39;49m\u001b[39mfine_tune_checkpoint: \u001b[39;49m\u001b[39m\"\u001b[39;49m\u001b[39m{}\u001b[39;49;00m\u001b[39m\"\u001b[39;49m\u001b[39m'\u001b[39;49m\u001b[39m.\u001b[39;49mformat(fine_tune_checkpoint), s)\n\u001b[0;32m     <a href='vscode-notebook-cell:/d%3A/Projects/pyproj/tensorflow-object-detection/TRAININGTRAINING.ipynb#ch0000009?line=13'>14</a>\u001b[0m     \u001b[39m# tfrecord files train and test.\u001b[39;00m\n\u001b[0;32m     <a href='vscode-notebook-cell:/d%3A/Projects/pyproj/tensorflow-object-detection/TRAININGTRAINING.ipynb#ch0000009?line=14'>15</a>\u001b[0m     s \u001b[39m=\u001b[39m re\u001b[39m.\u001b[39msub(\n\u001b[0;32m     <a href='vscode-notebook-cell:/d%3A/Projects/pyproj/tensorflow-object-detection/TRAININGTRAINING.ipynb#ch0000009?line=15'>16</a>\u001b[0m         \u001b[39m'\u001b[39m\u001b[39m(input_path: \u001b[39m\u001b[39m\"\u001b[39m\u001b[39m.*?)(train.record)(.*?\u001b[39m\u001b[39m\"\u001b[39m\u001b[39m)\u001b[39m\u001b[39m'\u001b[39m, \u001b[39m'\u001b[39m\u001b[39minput_path: \u001b[39m\u001b[39m\"\u001b[39m\u001b[39m{}\u001b[39;00m\u001b[39m\"\u001b[39m\u001b[39m'\u001b[39m\u001b[39m.\u001b[39mformat(train_record_fname), s)\n",
      "File \u001b[1;32mc:\\users\\gamer\\appdata\\local\\programs\\python\\python39\\lib\\re.py:210\u001b[0m, in \u001b[0;36msub\u001b[1;34m(pattern, repl, string, count, flags)\u001b[0m\n\u001b[0;32m    <a href='file:///c%3A/users/gamer/appdata/local/programs/python/python39/lib/re.py?line=202'>203</a>\u001b[0m \u001b[39mdef\u001b[39;00m \u001b[39msub\u001b[39m(pattern, repl, string, count\u001b[39m=\u001b[39m\u001b[39m0\u001b[39m, flags\u001b[39m=\u001b[39m\u001b[39m0\u001b[39m):\n\u001b[0;32m    <a href='file:///c%3A/users/gamer/appdata/local/programs/python/python39/lib/re.py?line=203'>204</a>\u001b[0m     \u001b[39m\"\"\"Return the string obtained by replacing the leftmost\u001b[39;00m\n\u001b[0;32m    <a href='file:///c%3A/users/gamer/appdata/local/programs/python/python39/lib/re.py?line=204'>205</a>\u001b[0m \u001b[39m    non-overlapping occurrences of the pattern in string by the\u001b[39;00m\n\u001b[0;32m    <a href='file:///c%3A/users/gamer/appdata/local/programs/python/python39/lib/re.py?line=205'>206</a>\u001b[0m \u001b[39m    replacement repl.  repl can be either a string or a callable;\u001b[39;00m\n\u001b[0;32m    <a href='file:///c%3A/users/gamer/appdata/local/programs/python/python39/lib/re.py?line=206'>207</a>\u001b[0m \u001b[39m    if a string, backslash escapes in it are processed.  If it is\u001b[39;00m\n\u001b[0;32m    <a href='file:///c%3A/users/gamer/appdata/local/programs/python/python39/lib/re.py?line=207'>208</a>\u001b[0m \u001b[39m    a callable, it's passed the Match object and must return\u001b[39;00m\n\u001b[0;32m    <a href='file:///c%3A/users/gamer/appdata/local/programs/python/python39/lib/re.py?line=208'>209</a>\u001b[0m \u001b[39m    a replacement string to be used.\"\"\"\u001b[39;00m\n\u001b[1;32m--> <a href='file:///c%3A/users/gamer/appdata/local/programs/python/python39/lib/re.py?line=209'>210</a>\u001b[0m     \u001b[39mreturn\u001b[39;00m _compile(pattern, flags)\u001b[39m.\u001b[39;49msub(repl, string, count)\n",
      "File \u001b[1;32mc:\\users\\gamer\\appdata\\local\\programs\\python\\python39\\lib\\re.py:327\u001b[0m, in \u001b[0;36m_subx\u001b[1;34m(pattern, template)\u001b[0m\n\u001b[0;32m    <a href='file:///c%3A/users/gamer/appdata/local/programs/python/python39/lib/re.py?line=324'>325</a>\u001b[0m \u001b[39mdef\u001b[39;00m \u001b[39m_subx\u001b[39m(pattern, template):\n\u001b[0;32m    <a href='file:///c%3A/users/gamer/appdata/local/programs/python/python39/lib/re.py?line=325'>326</a>\u001b[0m     \u001b[39m# internal: Pattern.sub/subn implementation helper\u001b[39;00m\n\u001b[1;32m--> <a href='file:///c%3A/users/gamer/appdata/local/programs/python/python39/lib/re.py?line=326'>327</a>\u001b[0m     template \u001b[39m=\u001b[39m _compile_repl(template, pattern)\n\u001b[0;32m    <a href='file:///c%3A/users/gamer/appdata/local/programs/python/python39/lib/re.py?line=327'>328</a>\u001b[0m     \u001b[39mif\u001b[39;00m \u001b[39mnot\u001b[39;00m template[\u001b[39m0\u001b[39m] \u001b[39mand\u001b[39;00m \u001b[39mlen\u001b[39m(template[\u001b[39m1\u001b[39m]) \u001b[39m==\u001b[39m \u001b[39m1\u001b[39m:\n\u001b[0;32m    <a href='file:///c%3A/users/gamer/appdata/local/programs/python/python39/lib/re.py?line=328'>329</a>\u001b[0m         \u001b[39m# literal replacement\u001b[39;00m\n\u001b[0;32m    <a href='file:///c%3A/users/gamer/appdata/local/programs/python/python39/lib/re.py?line=329'>330</a>\u001b[0m         \u001b[39mreturn\u001b[39;00m template[\u001b[39m1\u001b[39m][\u001b[39m0\u001b[39m]\n",
      "File \u001b[1;32mc:\\users\\gamer\\appdata\\local\\programs\\python\\python39\\lib\\re.py:318\u001b[0m, in \u001b[0;36m_compile_repl\u001b[1;34m(repl, pattern)\u001b[0m\n\u001b[0;32m    <a href='file:///c%3A/users/gamer/appdata/local/programs/python/python39/lib/re.py?line=314'>315</a>\u001b[0m \u001b[39m@functools\u001b[39m\u001b[39m.\u001b[39mlru_cache(_MAXCACHE)\n\u001b[0;32m    <a href='file:///c%3A/users/gamer/appdata/local/programs/python/python39/lib/re.py?line=315'>316</a>\u001b[0m \u001b[39mdef\u001b[39;00m \u001b[39m_compile_repl\u001b[39m(repl, pattern):\n\u001b[0;32m    <a href='file:///c%3A/users/gamer/appdata/local/programs/python/python39/lib/re.py?line=316'>317</a>\u001b[0m     \u001b[39m# internal: compile replacement pattern\u001b[39;00m\n\u001b[1;32m--> <a href='file:///c%3A/users/gamer/appdata/local/programs/python/python39/lib/re.py?line=317'>318</a>\u001b[0m     \u001b[39mreturn\u001b[39;00m sre_parse\u001b[39m.\u001b[39;49mparse_template(repl, pattern)\n",
      "File \u001b[1;32mc:\\users\\gamer\\appdata\\local\\programs\\python\\python39\\lib\\sre_parse.py:1042\u001b[0m, in \u001b[0;36mparse_template\u001b[1;34m(source, state)\u001b[0m\n\u001b[0;32m   <a href='file:///c%3A/users/gamer/appdata/local/programs/python/python39/lib/sre_parse.py?line=1039'>1040</a>\u001b[0m         \u001b[39mexcept\u001b[39;00m \u001b[39mKeyError\u001b[39;00m:\n\u001b[0;32m   <a href='file:///c%3A/users/gamer/appdata/local/programs/python/python39/lib/sre_parse.py?line=1040'>1041</a>\u001b[0m             \u001b[39mif\u001b[39;00m c \u001b[39min\u001b[39;00m ASCIILETTERS:\n\u001b[1;32m-> <a href='file:///c%3A/users/gamer/appdata/local/programs/python/python39/lib/sre_parse.py?line=1041'>1042</a>\u001b[0m                 \u001b[39mraise\u001b[39;00m s\u001b[39m.\u001b[39merror(\u001b[39m'\u001b[39m\u001b[39mbad escape \u001b[39m\u001b[39m%s\u001b[39;00m\u001b[39m'\u001b[39m \u001b[39m%\u001b[39m this, \u001b[39mlen\u001b[39m(this))\n\u001b[0;32m   <a href='file:///c%3A/users/gamer/appdata/local/programs/python/python39/lib/sre_parse.py?line=1042'>1043</a>\u001b[0m         lappend(this)\n\u001b[0;32m   <a href='file:///c%3A/users/gamer/appdata/local/programs/python/python39/lib/sre_parse.py?line=1043'>1044</a>\u001b[0m \u001b[39melse\u001b[39;00m:\n",
      "\u001b[1;31merror\u001b[0m: bad escape \\P at position 25"
     ]
    }
   ],
   "source": [
    "import re\n",
    "train_record_fname = 'D:\\\\Projects\\\\pyproj\\\\tensorflow-object-detection\\\\train.record'\n",
    "test_record_fname = 'D:\\\\Projects\\\\pyproj\\\\tensorflow-object-detection\\\\test.record'\n",
    "label_map_pbtxt_fname = 'D:\\\\Projects\\\\pyproj\\\\tensorflow-object-detection\\\\ppe\\\\label_map.pbtxt'\n",
    "num_classes = get_num_classes(label_map_pbtxt_fname)\n",
    "with open(pipeline_fname) as f:\n",
    "    s = f.read()\n",
    "with open(pipeline_fname, 'w') as f:\n",
    "    \n",
    "    # fine_tune_checkpoint\n",
    "    s = re.sub('fine_tune_checkpoint: \".*?\"',\n",
    "               'fine_tune_checkpoint: \"{}\"'.format(fine_tune_checkpoint), s)\n",
    "    \n",
    "    # tfrecord files train and test.\n",
    "    s = re.sub(\n",
    "        '(input_path: \".*?)(train.record)(.*?\")', 'input_path: \"{}\"'.format(train_record_fname), s)\n",
    "    s = re.sub(\n",
    "        '(input_path: \".*?)(val.record)(.*?\")', 'input_path: \"{}\"'.format(test_record_fname), s)\n",
    "\n",
    "    # label_map_path\n",
    "    s = re.sub(\n",
    "        'label_map_path: \".*?\"', 'label_map_path: \"{}\"'.format(label_map_pbtxt_fname), s)\n",
    "\n",
    "    # Set training batch_size.\n",
    "    s = re.sub('batch_size: [0-9]+',\n",
    "               'batch_size: {}'.format(batch_size), s)\n",
    "\n",
    "    # Set training steps, num_steps\n",
    "    s = re.sub('num_steps: [0-9]+',\n",
    "               'num_steps: {}'.format(num_steps), s)\n",
    "    \n",
    "    # Set number of classes num_classes.\n",
    "    s = re.sub('num_classes: [0-9]+',\n",
    "               'num_classes: {}'.format(num_classes), s)\n",
    "    f.write(s)"
   ]
  }
 ],
 "metadata": {
  "interpreter": {
   "hash": "7cf434338c857bb8f7ecdb1095ca8a41d31fcfe5909ce792abbaa2601c924383"
  },
  "kernelspec": {
   "display_name": "Python 3.9.6 64-bit (system)",
   "language": "python",
   "name": "python3"
  },
  "language_info": {
   "codemirror_mode": {
    "name": "ipython",
    "version": 3
   },
   "file_extension": ".py",
   "mimetype": "text/x-python",
   "name": "python",
   "nbconvert_exporter": "python",
   "pygments_lexer": "ipython3",
   "version": "3.9.6"
  },
  "orig_nbformat": 4
 },
 "nbformat": 4,
 "nbformat_minor": 2
}
