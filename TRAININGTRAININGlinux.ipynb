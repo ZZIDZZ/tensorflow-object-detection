{
 "cells": [
  {
   "cell_type": "code",
   "execution_count": 11,
   "metadata": {},
   "outputs": [],
   "source": [
    "repo_url = 'https://github.com/ZZIDZZ/tensorflow-object-detection.git'\n",
    "# Number of training steps - 1000 will train very quickly, but more steps will increase accuracy.\n",
    "num_steps = 10000  # 200000 to improve\n",
    "\n",
    "# Number of evaluation steps.\n",
    "num_eval_steps = 50\n",
    "\n",
    "MODELS_CONFIG = {\n",
    "    'ssd_mobilenet_v2_keras': {\n",
    "        'model_name': 'ssd_mobilenet_v2_320x320_coco17_tpu-8',\n",
    "        'pipeline_file': 'pipeline.config',\n",
    "        'batch_size': 12\n",
    "    },\n",
    "    'faster_rcnn_inception_v2': {\n",
    "        'model_name': 'faster_rcnn_inception_v2_coco_2018_01_28',\n",
    "        'pipeline_file': 'faster_rcnn_inception_v2_pets.config',\n",
    "        'batch_size': 12\n",
    "    },\n",
    "    'rfcn_resnet101': {\n",
    "        'model_name': 'rfcn_resnet101_coco_2018_01_28',\n",
    "        'pipeline_file': 'rfcn_resnet101_pets.config',\n",
    "        'batch_size': 8\n",
    "    }\n",
    "}\n",
    "\n",
    "# Pick the model you want to use\n",
    "# Select a model in `MODELS_CONFIG`.\n",
    "selected_model = 'ssd_mobilenet_v2_keras'\n",
    "\n",
    "# Name of the object detection model to use.\n",
    "MODEL = MODELS_CONFIG[selected_model]['model_name']\n",
    "\n",
    "# Name of the pipline file in tensorflow object detection API.\n",
    "pipeline_file = MODELS_CONFIG[selected_model]['pipeline_file']\n",
    "\n",
    "# Training batch size fits in Colabe's Tesla K80 GPU memory for selected model.\n",
    "batch_size = MODELS_CONFIG[selected_model]['batch_size']\n",
    "MODEL_FILE = MODEL + '.tar.gz'\n",
    "DOWNLOAD_BASE = 'http://download.tensorflow.org/models/object_detection/'\n",
    "DEST_DIR = '/home/gamer/Desktop/machine-learning/models/research/pretrained_model'"
   ]
  },
  {
   "cell_type": "code",
   "execution_count": 2,
   "metadata": {},
   "outputs": [
    {
     "name": "stdout",
     "output_type": "stream",
     "text": [
      "asnu\t\t\t    resize_images.py\n",
      "data\t\t\t    tensorflow_object_detection_training_colab.ipynb\n",
      "deploy\t\t\t    test\n",
      "generate_tfrecord.py\t    test.record\n",
      "LICENSE\t\t\t    tfrecodd\n",
      "local_inference_test.ipynb  TRAININGTRAINING.ipynb\n",
      "local_inference_test.py     TRAININGTRAININGlinux.ipynb\n",
      "ppe\t\t\t    train.record\n",
      "README.md\t\t    xml_to_csv.py\n",
      "requirements.txt\n"
     ]
    }
   ],
   "source": [
    "!ls"
   ]
  },
  {
   "cell_type": "code",
   "execution_count": 2,
   "metadata": {},
   "outputs": [
    {
     "name": "stdout",
     "output_type": "stream",
     "text": [
      "/home/gamer/Desktop/machine-learning/models/research\n"
     ]
    }
   ],
   "source": [
    "%cd /home/gamer/Desktop/machine-learning/models/research\n",
    "!protoc object_detection/protos/*.proto --python_out=.\n",
    "\n",
    "import os\n",
    "os.environ['PYTHONPATH'] += ':/home/gamer/Desktop/machine-learning/models/research/:/home/gamer/Desktop/machine-learning/models/research/slim/:/home/gamer/Desktop/machine-learning/models/'\n",
    "\n",
    "!python object_detection/builders/model_builder_test.py"
   ]
  },
  {
   "cell_type": "code",
   "execution_count": 12,
   "metadata": {},
   "outputs": [
    {
     "name": "stderr",
     "output_type": "stream",
     "text": [
      "Traceback (most recent call last):\n",
      "  File \"d:\\Projects\\pyproj\\tensorflow-object-detection\\generate_tfrecord.py\", line 134, in <module>\n",
      "    tf.app.run()\n",
      "  File \"D:\\Projects\\pyproj\\project_env\\lib\\site-packages\\tensorflow\\python\\platform\\app.py\", line 36, in run\n",
      "    _run(main=main, argv=argv, flags_parser=_parse_flags_tolerate_undef)\n",
      "  File \"D:\\Projects\\pyproj\\project_env\\lib\\site-packages\\absl\\app.py\", line 312, in run\n",
      "    _run_main(main, args)\n",
      "  File \"D:\\Projects\\pyproj\\project_env\\lib\\site-packages\\absl\\app.py\", line 258, in _run_main\n",
      "    sys.exit(main(argv))\n",
      "  File \"d:\\Projects\\pyproj\\tensorflow-object-detection\\generate_tfrecord.py\", line 107, in main\n",
      "    writer = tf.python_io.TFRecordWriter(FLAGS.output_path)\n",
      "  File \"D:\\Projects\\pyproj\\project_env\\lib\\site-packages\\tensorflow\\python\\lib\\io\\tf_record.py\", line 294, in __init__\n",
      "    super(TFRecordWriter, self).__init__(\n",
      "tensorflow.python.framework.errors_impl.NotFoundError: Failed to create a NewWriteableFile:  : The system cannot find the path specified.\n",
      "\n",
      "; No such process\n"
     ]
    }
   ],
   "source": [
    "!python generate_tfrecord.py --csv_input data\\annotations --img_path data\\train"
   ]
  },
  {
   "cell_type": "code",
   "execution_count": 3,
   "metadata": {},
   "outputs": [
    {
     "name": "stdout",
     "output_type": "stream",
     "text": [
      "/home/gamer/Desktop/project_env/bin/python\n"
     ]
    }
   ],
   "source": [
    "!which python"
   ]
  },
  {
   "cell_type": "code",
   "execution_count": 3,
   "metadata": {},
   "outputs": [
    {
     "name": "stderr",
     "output_type": "stream",
     "text": [
      "UsageError: Line magic function `%source` not found.\n"
     ]
    }
   ],
   "source": [
    "%source /home/gamer/Desktop/machine-learning/activatepy.bashrc"
   ]
  },
  {
   "cell_type": "code",
   "execution_count": 4,
   "metadata": {},
   "outputs": [
    {
     "name": "stdout",
     "output_type": "stream",
     "text": [
      "/home/gamer/Desktop/machine-learning/models/research\n"
     ]
    }
   ],
   "source": [
    "%cd /home/gamer/Desktop/machine-learning/models/research\n",
    "\n",
    "import os\n",
    "import shutil\n",
    "import glob\n",
    "import urllib.request\n",
    "import tarfile\n",
    "\n",
    "MODEL_FILE = MODEL + '.tar.gz'\n",
    "DOWNLOAD_BASE = 'http://download.tensorflow.org/models/object_detection/'\n",
    "DEST_DIR = '/home/gamer/Desktop/machine-learning/models/research/pretrained_model'\n",
    "\n",
    "if not (os.path.exists(MODEL_FILE)):\n",
    "    urllib.request.urlretrieve('http://download.tensorflow.org/models/object_detection/tf2/20200711/ssd_mobilenet_v2_320x320_coco17_tpu-8.tar.gz', MODEL_FILE)\n",
    "\n",
    "tar = tarfile.open(MODEL_FILE)\n",
    "tar.extractall()\n",
    "tar.close()\n",
    "\n",
    "os.remove(MODEL_FILE)\n",
    "if (os.path.exists(DEST_DIR)):\n",
    "    shutil.rmtree(DEST_DIR)\n",
    "os.rename(MODEL, DEST_DIR)"
   ]
  },
  {
   "cell_type": "code",
   "execution_count": 12,
   "metadata": {},
   "outputs": [
    {
     "name": "stdout",
     "output_type": "stream",
     "text": [
      "/home/gamer/Desktop/machine-learning/models/research\n"
     ]
    },
    {
     "data": {
      "text/plain": [
       "'/home/gamer/Desktop/machine-learning/models/research/pretrained_model/checkpoint/checkpoint'"
      ]
     },
     "execution_count": 12,
     "metadata": {},
     "output_type": "execute_result"
    }
   ],
   "source": [
    "%cd /home/gamer/Desktop/machine-learning/models/research\n",
    "fine_tune_checkpoint = os.path.join(DEST_DIR, \"checkpoint/checkpoint\")\n",
    "fine_tune_checkpoint"
   ]
  },
  {
   "cell_type": "code",
   "execution_count": 13,
   "metadata": {},
   "outputs": [
    {
     "ename": "AssertionError",
     "evalue": "`/home/gamer/Desktop/machine-learning/models/research/object_detection/samples/configs/pipeline.config` not exist",
     "output_type": "error",
     "traceback": [
      "\u001b[0;31m---------------------------------------------------------------------------\u001b[0m",
      "\u001b[0;31mAssertionError\u001b[0m                            Traceback (most recent call last)",
      "\u001b[0;32m/tmp/ipykernel_14210/2694853791.py\u001b[0m in \u001b[0;36m<module>\u001b[0;34m\u001b[0m\n\u001b[1;32m      2\u001b[0m \u001b[0mpipeline_fname\u001b[0m \u001b[0;34m=\u001b[0m \u001b[0mos\u001b[0m\u001b[0;34m.\u001b[0m\u001b[0mpath\u001b[0m\u001b[0;34m.\u001b[0m\u001b[0mjoin\u001b[0m\u001b[0;34m(\u001b[0m\u001b[0;34m'/home/gamer/Desktop/machine-learning/models/research/object_detection/samples/configs/'\u001b[0m\u001b[0;34m,\u001b[0m \u001b[0mpipeline_file\u001b[0m\u001b[0;34m)\u001b[0m\u001b[0;34m\u001b[0m\u001b[0;34m\u001b[0m\u001b[0m\n\u001b[1;32m      3\u001b[0m \u001b[0;34m\u001b[0m\u001b[0m\n\u001b[0;32m----> 4\u001b[0;31m \u001b[0;32massert\u001b[0m \u001b[0mos\u001b[0m\u001b[0;34m.\u001b[0m\u001b[0mpath\u001b[0m\u001b[0;34m.\u001b[0m\u001b[0misfile\u001b[0m\u001b[0;34m(\u001b[0m\u001b[0mpipeline_fname\u001b[0m\u001b[0;34m)\u001b[0m\u001b[0;34m,\u001b[0m \u001b[0;34m'`{}` not exist'\u001b[0m\u001b[0;34m.\u001b[0m\u001b[0mformat\u001b[0m\u001b[0;34m(\u001b[0m\u001b[0mpipeline_fname\u001b[0m\u001b[0;34m)\u001b[0m\u001b[0;34m\u001b[0m\u001b[0;34m\u001b[0m\u001b[0m\n\u001b[0m",
      "\u001b[0;31mAssertionError\u001b[0m: `/home/gamer/Desktop/machine-learning/models/research/object_detection/samples/configs/pipeline.config` not exist"
     ]
    }
   ],
   "source": [
    "import os\n",
    "pipeline_fname = os.path.join('/home/gamer/Desktop/machine-learning/models/research/object_detection/samples/configs/', pipeline_file)\n",
    "\n",
    "assert os.path.isfile(pipeline_fname), '`{}` not exist'.format(pipeline_fname)"
   ]
  },
  {
   "cell_type": "code",
   "execution_count": 7,
   "metadata": {},
   "outputs": [],
   "source": [
    "def get_num_classes(pbtxt_fname):\n",
    "    from object_detection.utils import label_map_util\n",
    "    label_map = label_map_util.load_labelmap(pbtxt_fname)\n",
    "    categories = label_map_util.convert_label_map_to_categories(\n",
    "        label_map, max_num_classes=90, use_display_name=True)\n",
    "    category_index = label_map_util.create_category_index(categories)\n",
    "    return len(category_index.keys())"
   ]
  },
  {
   "cell_type": "code",
   "execution_count": 8,
   "metadata": {},
   "outputs": [],
   "source": [
    "import re\n",
    "train_record_fname = '/home/gamer/Desktop/machine-learning/tensorflow-object-detection/train.record'\n",
    "test_record_fname = '/home/gamer/Desktop/machine-learning/tensorflow-object-detection/test.record'\n",
    "label_map_pbtxt_fname = '/home/gamer/Desktop/machine-learning/tensorflow-object-detection/ppe/label_map.pbtxt'\n",
    "num_classes = get_num_classes(label_map_pbtxt_fname)\n",
    "with open(pipeline_fname) as f:\n",
    "    s = f.read()\n",
    "with open(pipeline_fname, 'w') as f:\n",
    "    \n",
    "    # fine_tune_checkpoint\n",
    "    s = re.sub('fine_tune_checkpoint: \".*?\"',\n",
    "               'fine_tune_checkpoint: \"{}\"'.format(fine_tune_checkpoint), s)\n",
    "    \n",
    "    # tfrecord files train and test.\n",
    "    s = re.sub(\n",
    "        '(input_path: \".*?)(train.record)(.*?\")', 'input_path: \"{}\"'.format(train_record_fname), s)\n",
    "    s = re.sub(\n",
    "        '(input_path: \".*?)(val.record)(.*?\")', 'input_path: \"{}\"'.format(test_record_fname), s)\n",
    "\n",
    "    # label_map_path\n",
    "    s = re.sub(\n",
    "        'label_map_path: \".*?\"', 'label_map_path: \"{}\"'.format(label_map_pbtxt_fname), s)\n",
    "\n",
    "    # Set training batch_size.\n",
    "    s = re.sub('batch_size: [0-9]+',\n",
    "               'batch_size: {}'.format(batch_size), s)\n",
    "\n",
    "    # Set training steps, num_steps\n",
    "    s = re.sub('num_steps: [0-9]+',\n",
    "               'num_steps: {}'.format(num_steps), s)\n",
    "    \n",
    "    # Set number of classes num_classes.\n",
    "    s = re.sub('num_classes: [0-9]+',\n",
    "               'num_classes: {}'.format(num_classes), s)\n",
    "    f.write(s)"
   ]
  },
  {
   "cell_type": "code",
   "execution_count": 26,
   "metadata": {},
   "outputs": [
    {
     "name": "stdout",
     "output_type": "stream",
     "text": [
      "# SSD with Mobilenet v2 configuration for MSCOCO Dataset.\n",
      "# Users should configure the fine_tune_checkpoint field in the train config as\n",
      "# well as the label_map_path and input_path fields in the train_input_reader and\n",
      "# eval_input_reader. Search for \"PATH_TO_BE_CONFIGURED\" to find the fields that\n",
      "# should be configured.\n",
      "\n",
      "model {\n",
      "  ssd {\n",
      "    num_classes: 3\n",
      "    box_coder {\n",
      "      faster_rcnn_box_coder {\n",
      "        y_scale: 10.0\n",
      "        x_scale: 10.0\n",
      "        height_scale: 5.0\n",
      "        width_scale: 5.0\n",
      "      }\n",
      "    }\n",
      "    matcher {\n",
      "      argmax_matcher {\n",
      "        matched_threshold: 0.5\n",
      "        unmatched_threshold: 0.5\n",
      "        ignore_thresholds: false\n",
      "        negatives_lower_than_unmatched: true\n",
      "        force_match_for_each_row: true\n",
      "      }\n",
      "    }\n",
      "    similarity_calculator {\n",
      "      iou_similarity {\n",
      "      }\n",
      "    }\n",
      "    anchor_generator {\n",
      "      ssd_anchor_generator {\n",
      "        num_layers: 6\n",
      "        min_scale: 0.2\n",
      "        max_scale: 0.95\n",
      "        aspect_ratios: 1.0\n",
      "        aspect_ratios: 2.0\n",
      "        aspect_ratios: 0.5\n",
      "        aspect_ratios: 3.0\n",
      "        aspect_ratios: 0.3333\n",
      "      }\n",
      "    }\n",
      "    image_resizer {\n",
      "      fixed_shape_resizer {\n",
      "        height: 300\n",
      "        width: 300\n",
      "      }\n",
      "    }\n",
      "    box_predictor {\n",
      "      convolutional_box_predictor {\n",
      "        min_depth: 0\n",
      "        max_depth: 0\n",
      "        num_layers_before_predictor: 0\n",
      "        use_dropout: false\n",
      "        dropout_keep_probability: 0.8\n",
      "        kernel_size: 1\n",
      "        box_code_size: 4\n",
      "        apply_sigmoid_to_scores: false\n",
      "        conv_hyperparams {\n",
      "          activation: RELU_6,\n",
      "          regularizer {\n",
      "            l2_regularizer {\n",
      "              weight: 0.00004\n",
      "            }\n",
      "          }\n",
      "          initializer {\n",
      "            truncated_normal_initializer {\n",
      "              stddev: 0.03\n",
      "              mean: 0.0\n",
      "            }\n",
      "          }\n",
      "          batch_norm {\n",
      "            train: true,\n",
      "            scale: true,\n",
      "            center: true,\n",
      "            decay: 0.9997,\n",
      "            epsilon: 0.001,\n",
      "          }\n",
      "        }\n",
      "      }\n",
      "    }\n",
      "    feature_extractor {\n",
      "      type: 'ssd_mobilenet_v2'\n",
      "      min_depth: 16\n",
      "      depth_multiplier: 1.0\n",
      "      conv_hyperparams {\n",
      "        activation: RELU_6,\n",
      "        regularizer {\n",
      "          l2_regularizer {\n",
      "            weight: 0.00004\n",
      "          }\n",
      "        }\n",
      "        initializer {\n",
      "          truncated_normal_initializer {\n",
      "            stddev: 0.03\n",
      "            mean: 0.0\n",
      "          }\n",
      "        }\n",
      "        batch_norm {\n",
      "          train: true,\n",
      "          scale: true,\n",
      "          center: true,\n",
      "          decay: 0.9997,\n",
      "          epsilon: 0.001,\n",
      "        }\n",
      "      }\n",
      "    }\n",
      "    loss {\n",
      "      classification_loss {\n",
      "        weighted_sigmoid {\n",
      "        }\n",
      "      }\n",
      "      localization_loss {\n",
      "        weighted_smooth_l1 {\n",
      "        }\n",
      "      }\n",
      "      hard_example_miner {\n",
      "        num_hard_examples: 3000\n",
      "        iou_threshold: 0.99\n",
      "        loss_type: CLASSIFICATION\n",
      "        max_negatives_per_positive: 3\n",
      "        min_negatives_per_image: 3\n",
      "      }\n",
      "      classification_weight: 1.0\n",
      "      localization_weight: 1.0\n",
      "    }\n",
      "    normalize_loss_by_num_matches: true\n",
      "    post_processing {\n",
      "      batch_non_max_suppression {\n",
      "        score_threshold: 1e-8\n",
      "        iou_threshold: 0.6\n",
      "        max_detections_per_class: 100\n",
      "        max_total_detections: 100\n",
      "      }\n",
      "      score_converter: SIGMOID\n",
      "    }\n",
      "  }\n",
      "}\n",
      "\n",
      "train_config: {\n",
      "  batch_size: 12\n",
      "  optimizer {\n",
      "    rms_prop_optimizer: {\n",
      "      learning_rate: {\n",
      "        exponential_decay_learning_rate {\n",
      "          initial_learning_rate: 0.004\n",
      "          decay_steps: 800720\n",
      "          decay_factor: 0.95\n",
      "        }\n",
      "      }\n",
      "      momentum_optimizer_value: 0.9\n",
      "      decay: 0.9\n",
      "      epsilon: 1.0\n",
      "    }\n",
      "  }\n",
      "  fine_tune_checkpoint: \"/home/gamer/Desktop/machine-learning/models/research/pretrained_model/checkpoint/checkpoint\"\n",
      "  fine_tune_checkpoint_type:  \"detection\"\n",
      "  # Note: The below line limits the training process to 200K steps, which we\n",
      "  # empirically found to be sufficient enough to train the pets dataset. This\n",
      "  # effectively bypasses the learning rate schedule (the learning rate will\n",
      "  # never decay). Remove the below line to train indefinitely.\n",
      "  num_steps: 10000\n",
      "  data_augmentation_options {\n",
      "    random_horizontal_flip {\n",
      "    }\n",
      "  }\n",
      "  data_augmentation_options {\n",
      "    ssd_random_crop {\n",
      "    }\n",
      "  }\n",
      "}\n",
      "\n",
      "train_input_reader: {\n",
      "  tf_record_input_reader {\n",
      "    input_path: \"/home/gamer/Desktop/machine-learning/tensorflow-object-detection/train.record\"\n",
      "  }\n",
      "  label_map_path: \"/home/gamer/Desktop/machine-learning/tensorflow-object-detection/ppe/label_map.pbtxt\"\n",
      "}\n",
      "\n",
      "eval_config: {\n",
      "  num_examples: 8000\n",
      "  # Note: The below line limits the evaluation process to 10 evaluations.\n",
      "  # Remove the below line to evaluate indefinitely.\n",
      "  max_evals: 10\n",
      "}\n",
      "\n",
      "eval_input_reader: {\n",
      "  tf_record_input_reader {\n",
      "    input_path: \"/home/gamer/Desktop/machine-learning/tensorflow-object-detection/test.record\"\n",
      "  }\n",
      "  label_map_path: \"/home/gamer/Desktop/machine-learning/tensorflow-object-detection/ppe/label_map.pbtxt\"\n",
      "  shuffle: false\n",
      "  num_readers: 1\n",
      "}"
     ]
    }
   ],
   "source": [
    "!cat {pipeline_fname}"
   ]
  },
  {
   "cell_type": "code",
   "execution_count": 9,
   "metadata": {},
   "outputs": [],
   "source": [
    "model_dir = 'training/'\n",
    "# Optionally remove content in output model directory to fresh start.\n",
    "!rm -rf {model_dir}\n",
    "os.makedirs(model_dir, exist_ok=True)"
   ]
  },
  {
   "cell_type": "code",
   "execution_count": 28,
   "metadata": {},
   "outputs": [
    {
     "name": "stdout",
     "output_type": "stream",
     "text": [
      "Binary to run train and evaluation on object detection model.\n",
      "flags:\n",
      "\n",
      "/home/gamer/Desktop/machine-learning/models/research/object_detection/model_main.py:\n",
      "  --checkpoint_dir: Path to directory holding a checkpoint.  If `checkpoint_dir`\n",
      "    is provided, this binary operates in eval-only mode, writing resulting\n",
      "    metrics to `model_dir`.\n",
      "  --[no]eval_training_data: If training data should be evaluated for this job.\n",
      "    Note that one call only use this in eval-only mode, and `checkpoint_dir`\n",
      "    must be supplied.\n",
      "    (default: 'false')\n",
      "  --max_eval_retries: If running continuous eval, the maximum number of retries\n",
      "    upon encountering tf.errors.InvalidArgumentError. If negative, will always\n",
      "    retry the evaluation.\n",
      "    (default: '0')\n",
      "    (an integer)\n",
      "  --model_dir: Path to output model directory where event and checkpoint files\n",
      "    will be written.\n",
      "  --num_train_steps: Number of train steps.\n",
      "    (an integer)\n",
      "  --pipeline_config_path: Path to pipeline config file.\n",
      "  --[no]run_once: If running in eval-only mode, whether to run just one round of\n",
      "    eval vs running continuously (default).\n",
      "    (default: 'false')\n",
      "  --sample_1_of_n_eval_examples: Will sample one of every n eval input examples,\n",
      "    where n is provided.\n",
      "    (default: '1')\n",
      "    (an integer)\n",
      "  --sample_1_of_n_eval_on_train_examples: Will sample one of every n train input\n",
      "    examples for evaluation, where n is provided. This is only used if\n",
      "    `eval_training_data` is True.\n",
      "    (default: '5')\n",
      "    (an integer)\n",
      "\n",
      "Try --helpfull to get a list of all flags.\n"
     ]
    }
   ],
   "source": [
    "!python3 /home/gamer/Desktop/machine-learning/models/research/object_detection/model_main.py --help"
   ]
  },
  {
   "cell_type": "code",
   "execution_count": 10,
   "metadata": {},
   "outputs": [
    {
     "name": "stdout",
     "output_type": "stream",
     "text": [
      "2022-02-25 00:07:36.882218: I tensorflow/stream_executor/cuda/cuda_gpu_executor.cc:936] successful NUMA node read from SysFS had negative value (-1), but there must be at least one NUMA node, so returning NUMA node zero\n",
      "2022-02-25 00:07:36.882674: W tensorflow/stream_executor/platform/default/dso_loader.cc:64] Could not load dynamic library 'libcublas.so.11'; dlerror: libcublas.so.11: cannot open shared object file: No such file or directory; LD_LIBRARY_PATH: /home/gamer/Desktop/project_env/lib/python3.9/site-packages/cv2/../../lib64:\n",
      "2022-02-25 00:07:36.882752: W tensorflow/stream_executor/platform/default/dso_loader.cc:64] Could not load dynamic library 'libcublasLt.so.11'; dlerror: libcublasLt.so.11: cannot open shared object file: No such file or directory; LD_LIBRARY_PATH: /home/gamer/Desktop/project_env/lib/python3.9/site-packages/cv2/../../lib64:\n",
      "2022-02-25 00:07:36.882809: W tensorflow/stream_executor/platform/default/dso_loader.cc:64] Could not load dynamic library 'libcufft.so.10'; dlerror: libcufft.so.10: cannot open shared object file: No such file or directory; LD_LIBRARY_PATH: /home/gamer/Desktop/project_env/lib/python3.9/site-packages/cv2/../../lib64:\n",
      "2022-02-25 00:07:36.882886: W tensorflow/stream_executor/platform/default/dso_loader.cc:64] Could not load dynamic library 'libcurand.so.10'; dlerror: libcurand.so.10: cannot open shared object file: No such file or directory; LD_LIBRARY_PATH: /home/gamer/Desktop/project_env/lib/python3.9/site-packages/cv2/../../lib64:\n",
      "2022-02-25 00:07:36.882959: W tensorflow/stream_executor/platform/default/dso_loader.cc:64] Could not load dynamic library 'libcusolver.so.11'; dlerror: libcusolver.so.11: cannot open shared object file: No such file or directory; LD_LIBRARY_PATH: /home/gamer/Desktop/project_env/lib/python3.9/site-packages/cv2/../../lib64:\n",
      "2022-02-25 00:07:36.883011: W tensorflow/stream_executor/platform/default/dso_loader.cc:64] Could not load dynamic library 'libcusparse.so.11'; dlerror: libcusparse.so.11: cannot open shared object file: No such file or directory; LD_LIBRARY_PATH: /home/gamer/Desktop/project_env/lib/python3.9/site-packages/cv2/../../lib64:\n",
      "2022-02-25 00:07:36.883063: W tensorflow/stream_executor/platform/default/dso_loader.cc:64] Could not load dynamic library 'libcudnn.so.8'; dlerror: libcudnn.so.8: cannot open shared object file: No such file or directory; LD_LIBRARY_PATH: /home/gamer/Desktop/project_env/lib/python3.9/site-packages/cv2/../../lib64:\n",
      "2022-02-25 00:07:36.883076: W tensorflow/core/common_runtime/gpu/gpu_device.cc:1850] Cannot dlopen some GPU libraries. Please make sure the missing libraries mentioned above are installed properly if you would like to use GPU. Follow the guide at https://www.tensorflow.org/install/gpu for how to download and setup the required libraries for your platform.\n",
      "Skipping registering GPU devices...\n",
      "WARNING:tensorflow:Forced number of epochs for all eval validations to be 1.\n",
      "W0225 00:07:36.921345 139630556190528 model_lib.py:840] Forced number of epochs for all eval validations to be 1.\n",
      "INFO:tensorflow:Maybe overwriting train_steps: 10000\n",
      "I0225 00:07:36.921632 139630556190528 config_util.py:552] Maybe overwriting train_steps: 10000\n",
      "INFO:tensorflow:Maybe overwriting use_bfloat16: False\n",
      "I0225 00:07:36.921717 139630556190528 config_util.py:552] Maybe overwriting use_bfloat16: False\n",
      "INFO:tensorflow:Maybe overwriting sample_1_of_n_eval_examples: 1\n",
      "I0225 00:07:36.921783 139630556190528 config_util.py:552] Maybe overwriting sample_1_of_n_eval_examples: 1\n",
      "INFO:tensorflow:Maybe overwriting eval_num_epochs: 1\n",
      "I0225 00:07:36.921848 139630556190528 config_util.py:552] Maybe overwriting eval_num_epochs: 1\n",
      "WARNING:tensorflow:Expected number of evaluation epochs is 1, but instead encountered `eval_on_train_input_config.num_epochs` = 0. Overwriting `num_epochs` to 1.\n",
      "W0225 00:07:36.921943 139630556190528 model_lib.py:853] Expected number of evaluation epochs is 1, but instead encountered `eval_on_train_input_config.num_epochs` = 0. Overwriting `num_epochs` to 1.\n",
      "INFO:tensorflow:create_estimator_and_inputs: use_tpu False, export_to_tpu None\n",
      "I0225 00:07:36.922015 139630556190528 model_lib.py:893] create_estimator_and_inputs: use_tpu False, export_to_tpu None\n",
      "INFO:tensorflow:Using config: {'_model_dir': 'training/', '_tf_random_seed': None, '_save_summary_steps': 100, '_save_checkpoints_steps': None, '_save_checkpoints_secs': 600, '_session_config': allow_soft_placement: true\n",
      "graph_options {\n",
      "  rewrite_options {\n",
      "    meta_optimizer_iterations: ONE\n",
      "  }\n",
      "}\n",
      ", '_keep_checkpoint_max': 5, '_keep_checkpoint_every_n_hours': 10000, '_log_step_count_steps': 100, '_train_distribute': None, '_device_fn': None, '_protocol': None, '_eval_distribute': None, '_experimental_distribute': None, '_experimental_max_worker_delay_secs': None, '_session_creation_timeout_secs': 7200, '_checkpoint_save_graph_def': True, '_service': None, '_cluster_spec': ClusterSpec({}), '_task_type': 'worker', '_task_id': 0, '_global_id_in_cluster': 0, '_master': '', '_evaluation_master': '', '_is_chief': True, '_num_ps_replicas': 0, '_num_worker_replicas': 1}\n",
      "I0225 00:07:36.922370 139630556190528 estimator.py:202] Using config: {'_model_dir': 'training/', '_tf_random_seed': None, '_save_summary_steps': 100, '_save_checkpoints_steps': None, '_save_checkpoints_secs': 600, '_session_config': allow_soft_placement: true\n",
      "graph_options {\n",
      "  rewrite_options {\n",
      "    meta_optimizer_iterations: ONE\n",
      "  }\n",
      "}\n",
      ", '_keep_checkpoint_max': 5, '_keep_checkpoint_every_n_hours': 10000, '_log_step_count_steps': 100, '_train_distribute': None, '_device_fn': None, '_protocol': None, '_eval_distribute': None, '_experimental_distribute': None, '_experimental_max_worker_delay_secs': None, '_session_creation_timeout_secs': 7200, '_checkpoint_save_graph_def': True, '_service': None, '_cluster_spec': ClusterSpec({}), '_task_type': 'worker', '_task_id': 0, '_global_id_in_cluster': 0, '_master': '', '_evaluation_master': '', '_is_chief': True, '_num_ps_replicas': 0, '_num_worker_replicas': 1}\n",
      "WARNING:tensorflow:Estimator's model_fn (<function create_model_fn.<locals>.model_fn at 0x7efdd0c1e670>) includes params argument, but params are not passed to Estimator.\n",
      "W0225 00:07:36.922685 139630556190528 model_fn.py:624] Estimator's model_fn (<function create_model_fn.<locals>.model_fn at 0x7efdd0c1e670>) includes params argument, but params are not passed to Estimator.\n",
      "INFO:tensorflow:Not using Distribute Coordinator.\n",
      "I0225 00:07:36.923004 139630556190528 estimator_training.py:182] Not using Distribute Coordinator.\n",
      "INFO:tensorflow:Running training and evaluation locally (non-distributed).\n",
      "I0225 00:07:36.923140 139630556190528 training.py:643] Running training and evaluation locally (non-distributed).\n",
      "INFO:tensorflow:Start train and evaluate loop. The evaluate will happen after every checkpoint. Checkpoint frequency is determined based on RunConfig arguments: save_checkpoints_steps None or save_checkpoints_secs 600.\n",
      "I0225 00:07:36.923312 139630556190528 training.py:726] Start train and evaluate loop. The evaluate will happen after every checkpoint. Checkpoint frequency is determined based on RunConfig arguments: save_checkpoints_steps None or save_checkpoints_secs 600.\n",
      "WARNING:tensorflow:From /home/gamer/Desktop/project_env/lib/python3.9/site-packages/tensorflow/python/training/training_util.py:396: Variable.initialized_value (from tensorflow.python.ops.variables) is deprecated and will be removed in a future version.\n",
      "Instructions for updating:\n",
      "Use Variable.read_value. Variables in 2.X are initialized automatically both in eager and graph (inside tf.defun) contexts.\n",
      "W0225 00:07:36.930915 139630556190528 deprecation.py:337] From /home/gamer/Desktop/project_env/lib/python3.9/site-packages/tensorflow/python/training/training_util.py:396: Variable.initialized_value (from tensorflow.python.ops.variables) is deprecated and will be removed in a future version.\n",
      "Instructions for updating:\n",
      "Use Variable.read_value. Variables in 2.X are initialized automatically both in eager and graph (inside tf.defun) contexts.\n",
      "Traceback (most recent call last):\n",
      "  File \"/home/gamer/Desktop/machine-learning/models/research/object_detection/model_main.py\", line 108, in <module>\n",
      "    tf.app.run()\n",
      "  File \"/home/gamer/Desktop/project_env/lib/python3.9/site-packages/tensorflow/python/platform/app.py\", line 36, in run\n",
      "    _run(main=main, argv=argv, flags_parser=_parse_flags_tolerate_undef)\n",
      "  File \"/home/gamer/Desktop/project_env/lib/python3.9/site-packages/absl/app.py\", line 312, in run\n",
      "    _run_main(main, args)\n",
      "  File \"/home/gamer/Desktop/project_env/lib/python3.9/site-packages/absl/app.py\", line 258, in _run_main\n",
      "    sys.exit(main(argv))\n",
      "  File \"/home/gamer/Desktop/machine-learning/models/research/object_detection/model_main.py\", line 104, in main\n",
      "    tf.estimator.train_and_evaluate(estimator, train_spec, eval_specs[0])\n",
      "  File \"/home/gamer/Desktop/project_env/lib/python3.9/site-packages/tensorflow_estimator/python/estimator/training.py\", line 504, in train_and_evaluate\n",
      "    return executor.run()\n",
      "  File \"/home/gamer/Desktop/project_env/lib/python3.9/site-packages/tensorflow_estimator/python/estimator/training.py\", line 645, in run\n",
      "    return self.run_local()\n",
      "  File \"/home/gamer/Desktop/project_env/lib/python3.9/site-packages/tensorflow_estimator/python/estimator/training.py\", line 742, in run_local\n",
      "    self._estimator.train(\n",
      "  File \"/home/gamer/Desktop/project_env/lib/python3.9/site-packages/tensorflow_estimator/python/estimator/estimator.py\", line 360, in train\n",
      "    loss = self._train_model(input_fn, hooks, saving_listeners)\n",
      "  File \"/home/gamer/Desktop/project_env/lib/python3.9/site-packages/tensorflow_estimator/python/estimator/estimator.py\", line 1186, in _train_model\n",
      "    return self._train_model_default(input_fn, hooks, saving_listeners)\n",
      "  File \"/home/gamer/Desktop/project_env/lib/python3.9/site-packages/tensorflow_estimator/python/estimator/estimator.py\", line 1212, in _train_model_default\n",
      "    self._get_features_and_labels_from_input_fn(input_fn, ModeKeys.TRAIN))\n",
      "  File \"/home/gamer/Desktop/project_env/lib/python3.9/site-packages/tensorflow_estimator/python/estimator/estimator.py\", line 1048, in _get_features_and_labels_from_input_fn\n",
      "    self._call_input_fn(input_fn, mode))\n",
      "  File \"/home/gamer/Desktop/project_env/lib/python3.9/site-packages/tensorflow_estimator/python/estimator/estimator.py\", line 1141, in _call_input_fn\n",
      "    return input_fn(**kwargs)\n",
      "  File \"/home/gamer/Desktop/machine-learning/models/research/object_detection/inputs.py\", line 763, in _train_input_fn\n",
      "    return train_input(train_config, train_input_config, model_config,\n",
      "  File \"/home/gamer/Desktop/machine-learning/models/research/object_detection/inputs.py\", line 856, in train_input\n",
      "    model_preprocess_fn = INPUT_BUILDER_UTIL_MAP['model_build'](\n",
      "  File \"/home/gamer/Desktop/machine-learning/models/research/object_detection/builders/model_builder.py\", line 1249, in build\n",
      "    return build_func(getattr(model_config, meta_architecture), is_training,\n",
      "  File \"/home/gamer/Desktop/machine-learning/models/research/object_detection/builders/model_builder.py\", line 400, in _build_ssd_model\n",
      "    _check_feature_extractor_exists(ssd_config.feature_extractor.type)\n",
      "  File \"/home/gamer/Desktop/machine-learning/models/research/object_detection/builders/model_builder.py\", line 266, in _check_feature_extractor_exists\n",
      "    raise ValueError('{} is not supported. See `model_builder.py` for features '\n",
      "ValueError: ssd_mobilenet_v2 is not supported. See `model_builder.py` for features extractors compatible with different versions of Tensorflow{'ssd_efficientnet-b3_bifpn_keras', 'ssd_efficientnet-b6_bifpn_keras', 'faster_rcnn_resnet152_fpn_keras', 'ssd_efficientnet-b4_bifpn_keras', 'ssd_mobilenet_v2_keras', 'ssd_efficientnet-b2_bifpn_keras', 'resnet_v1_18_fpn', 'resnet_v1_50_fpn', 'ssd_resnet101_v1_fpn_keras', 'resnet_v2_50', 'faster_rcnn_inception_resnet_v2_keras', 'hourglass_104', 'resnet_v1_34_fpn', 'resnet_v1_101_fpn', 'hourglass_32', 'ssd_resnet50_v1_fpn_keras', 'resnet_v2_101', 'mobilenet_v2_fpn', 'ssd_efficientnet-b1_bifpn_keras', 'mobilenet_v2_fpn_sep_conv', 'hourglass_10', 'faster_rcnn_resnet152_keras', 'ssd_mobilenet_v1_keras', 'ssd_mobilenet_v1_fpn_keras', 'ssd_efficientnet-b7_bifpn_keras', 'hourglass_52', 'mobilenet_v2', 'faster_rcnn_resnet50_keras', 'faster_rcnn_resnet101_keras', 'ssd_mobilenet_v2_fpn_keras', 'ssd_resnet152_v1_fpn_keras', 'hourglass_20', 'ssd_efficientnet-b5_bifpn_keras', 'faster_rcnn_resnet50_fpn_keras', 'faster_rcnn_resnet101_fpn_keras', 'ssd_efficientnet-b0_bifpn_keras'}\n"
     ]
    }
   ],
   "source": [
    "!python3 /home/gamer/Desktop/machine-learning/models/research/object_detection/model_main.py \\\n",
    "    --pipeline_config_path={pipeline_fname} \\\n",
    "    --model_dir={model_dir} \\\n",
    "    --alsologtostderr \\\n",
    "    --num_train_steps={num_steps} \\\n",
    "    --num_eval_steps={num_eval_steps}"
   ]
  }
 ],
 "metadata": {
  "interpreter": {
   "hash": "7cf434338c857bb8f7ecdb1095ca8a41d31fcfe5909ce792abbaa2601c924383"
  },
  "kernelspec": {
   "display_name": "Python 3.9.6 64-bit (system)",
   "language": "python",
   "name": "python3"
  },
  "language_info": {
   "codemirror_mode": {
    "name": "ipython",
    "version": 3
   },
   "file_extension": ".py",
   "mimetype": "text/x-python",
   "name": "python",
   "nbconvert_exporter": "python",
   "pygments_lexer": "ipython3",
   "version": "3.9.9"
  },
  "orig_nbformat": 4
 },
 "nbformat": 4,
 "nbformat_minor": 2
}
